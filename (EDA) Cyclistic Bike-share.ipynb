{
 "cells": [
  {
   "cell_type": "markdown",
   "metadata": {},
   "source": [
    " <h1><center><b>بسم الله الرحمن الرحيم</b></center></h1>\n",
    " \n",
    " ---"
   ]
  },
  {
   "cell_type": "markdown",
   "metadata": {},
   "source": [
    "<center>This case study is part of <a href='https://www.coursera.org/account/accomplishments/professional-cert/ZL5LM69U7EM3'><b>Google data analytics professional certificate</b></a>, exploring the business problem of a hypothetical bike-sharing service in Chicago, <b>Cyclistic</b>. The data used in this case study is sourced from Motivate International Inc under <a href='https://ride.divvybikes.com/data-license-agreement'>this agreement</a>.</center>"
   ]
  },
  {
   "cell_type": "markdown",
   "metadata": {},
   "source": [
    "## Business Objective"
   ]
  },
  {
   "cell_type": "markdown",
   "metadata": {},
   "source": [
    "Analyzing the past 12-month data in order to find the difference in bike usage and behavior between **casual users** (*who pays for a single-ride or a full-day service*) and **annual members** (*who pays for a yearly subscription to use the service*).\n",
    "> The Director of Marketing, Lily Moreno, believes that maximizing the number of annual members will be key to future growth.\n",
    ">\n",
    ">Furthermore, she believes that there is very good chance to convert casual users into members instead of creating a marketing campaign that targets all-new customers, as she notes that casual riders are already aware of the Cylistic program.\n",
    "\n",
    "<center><b>¿What could motivate the “casual” users to change to an annual subscription based on their behavior?</b></center>"
   ]
  },
  {
   "cell_type": "markdown",
   "metadata": {},
   "source": [
    "## Ask"
   ]
  },
  {
   "cell_type": "markdown",
   "metadata": {},
   "source": [
    "- More preferable bike-type for both users?\n",
    "- More preferable weekday for both users?\n",
    "- Average duration/weekday for both users?\n",
    "- More preferable seasons for both users?"
   ]
  },
  {
   "cell_type": "markdown",
   "metadata": {},
   "source": [
    "---"
   ]
  },
  {
   "cell_type": "markdown",
   "metadata": {},
   "source": [
    "## Prepare"
   ]
  },
  {
   "cell_type": "markdown",
   "metadata": {},
   "source": [
    "The data used in this case study is a publicly available repository of monthly datasets from Motivate International Inc.\n",
    "\n",
    "The datasets are available for download <a href='https://divvy-tripdata.s3.amazonaws.com/index.html'>here</a>.\n",
    "\n",
    "The datasets from the previous 12 months have been downloaded from <a href='https://www.kaggle.com/datasets/evangower/cyclistic-bike-share'>this</a> Kaggle dataset."
   ]
  },
  {
   "cell_type": "code",
   "execution_count": 1,
   "metadata": {},
   "outputs": [],
   "source": [
    "# Importing necessary libraries\n",
    "import pandas as pd\n",
    "import matplotlib.pyplot as plt\n",
    "import seaborn as sns\n",
    "\n",
    "import warnings\n",
    "warnings.filterwarnings('ignore')"
   ]
  },
  {
   "cell_type": "code",
   "execution_count": 2,
   "metadata": {},
   "outputs": [],
   "source": [
    "# Importing all 12-month data (2021 Q2 -> 2022 Q1)\n",
    "Df_2021_04 = pd.read_csv('Data/202104-divvy-tripdata.csv')\n",
    "Df_2021_05 = pd.read_csv('Data/202105-divvy-tripdata.csv')\n",
    "Df_2021_06 = pd.read_csv('Data/202106-divvy-tripdata.csv')\n",
    "Df_2021_07 = pd.read_csv('Data/202107-divvy-tripdata.csv')\n",
    "Df_2021_08 = pd.read_csv('Data/202108-divvy-tripdata.csv')\n",
    "Df_2021_09 = pd.read_csv('Data/202109-divvy-tripdata.csv')\n",
    "Df_2021_10 = pd.read_csv('Data/202110-divvy-tripdata.csv')\n",
    "Df_2021_11 = pd.read_csv('Data/202111-divvy-tripdata.csv')\n",
    "Df_2021_12 = pd.read_csv('Data/202112-divvy-tripdata.csv')\n",
    "Df_2022_01 = pd.read_csv('Data/202201-divvy-tripdata.csv')\n",
    "Df_2022_02 = pd.read_csv('Data/202202-divvy-tripdata.csv')\n",
    "Df_2022_03 = pd.read_csv('Data/202203-divvy-tripdata.csv')"
   ]
  },
  {
   "cell_type": "code",
   "execution_count": 3,
   "metadata": {},
   "outputs": [],
   "source": [
    "# A list of all months' data\n",
    "Months_DFs = [Df_2021_04, Df_2021_05, Df_2021_06, Df_2021_07, Df_2021_08, Df_2021_09,\n",
    "              Df_2021_10, Df_2021_11, Df_2021_12, Df_2022_01, Df_2022_02, Df_2022_03]\n",
    "\n",
    "# Combining them into one dataset\n",
    "Cyclistic_df = pd.concat(Months_DFs)"
   ]
  },
  {
   "cell_type": "code",
   "execution_count": 4,
   "metadata": {},
   "outputs": [
    {
     "data": {
      "text/html": [
       "<div>\n",
       "<style scoped>\n",
       "    .dataframe tbody tr th:only-of-type {\n",
       "        vertical-align: middle;\n",
       "    }\n",
       "\n",
       "    .dataframe tbody tr th {\n",
       "        vertical-align: top;\n",
       "    }\n",
       "\n",
       "    .dataframe thead th {\n",
       "        text-align: right;\n",
       "    }\n",
       "</style>\n",
       "<table border=\"1\" class=\"dataframe\">\n",
       "  <thead>\n",
       "    <tr style=\"text-align: right;\">\n",
       "      <th></th>\n",
       "      <th>ride_id</th>\n",
       "      <th>rideable_type</th>\n",
       "      <th>started_at</th>\n",
       "      <th>ended_at</th>\n",
       "      <th>start_station_name</th>\n",
       "      <th>start_station_id</th>\n",
       "      <th>end_station_name</th>\n",
       "      <th>end_station_id</th>\n",
       "      <th>start_lat</th>\n",
       "      <th>start_lng</th>\n",
       "      <th>end_lat</th>\n",
       "      <th>end_lng</th>\n",
       "      <th>member_casual</th>\n",
       "    </tr>\n",
       "  </thead>\n",
       "  <tbody>\n",
       "    <tr>\n",
       "      <th>0</th>\n",
       "      <td>6C992BD37A98A63F</td>\n",
       "      <td>classic_bike</td>\n",
       "      <td>2021-04-12 18:25:36</td>\n",
       "      <td>2021-04-12 18:56:55</td>\n",
       "      <td>State St &amp; Pearson St</td>\n",
       "      <td>TA1307000061</td>\n",
       "      <td>Southport Ave &amp; Waveland Ave</td>\n",
       "      <td>13235</td>\n",
       "      <td>41.897448</td>\n",
       "      <td>-87.628722</td>\n",
       "      <td>41.948150</td>\n",
       "      <td>-87.663940</td>\n",
       "      <td>member</td>\n",
       "    </tr>\n",
       "    <tr>\n",
       "      <th>1</th>\n",
       "      <td>1E0145613A209000</td>\n",
       "      <td>docked_bike</td>\n",
       "      <td>2021-04-27 17:27:11</td>\n",
       "      <td>2021-04-27 18:31:29</td>\n",
       "      <td>Dorchester Ave &amp; 49th St</td>\n",
       "      <td>KA1503000069</td>\n",
       "      <td>Dorchester Ave &amp; 49th St</td>\n",
       "      <td>KA1503000069</td>\n",
       "      <td>41.805772</td>\n",
       "      <td>-87.592464</td>\n",
       "      <td>41.805772</td>\n",
       "      <td>-87.592464</td>\n",
       "      <td>casual</td>\n",
       "    </tr>\n",
       "    <tr>\n",
       "      <th>2</th>\n",
       "      <td>E498E15508A80BAD</td>\n",
       "      <td>docked_bike</td>\n",
       "      <td>2021-04-03 12:42:45</td>\n",
       "      <td>2021-04-07 11:40:24</td>\n",
       "      <td>Loomis Blvd &amp; 84th St</td>\n",
       "      <td>20121</td>\n",
       "      <td>Loomis Blvd &amp; 84th St</td>\n",
       "      <td>20121</td>\n",
       "      <td>41.741487</td>\n",
       "      <td>-87.658410</td>\n",
       "      <td>41.741487</td>\n",
       "      <td>-87.658410</td>\n",
       "      <td>casual</td>\n",
       "    </tr>\n",
       "    <tr>\n",
       "      <th>3</th>\n",
       "      <td>1887262AD101C604</td>\n",
       "      <td>classic_bike</td>\n",
       "      <td>2021-04-17 09:17:42</td>\n",
       "      <td>2021-04-17 09:42:48</td>\n",
       "      <td>Honore St &amp; Division St</td>\n",
       "      <td>TA1305000034</td>\n",
       "      <td>Southport Ave &amp; Waveland Ave</td>\n",
       "      <td>13235</td>\n",
       "      <td>41.903119</td>\n",
       "      <td>-87.673935</td>\n",
       "      <td>41.948150</td>\n",
       "      <td>-87.663940</td>\n",
       "      <td>member</td>\n",
       "    </tr>\n",
       "    <tr>\n",
       "      <th>4</th>\n",
       "      <td>C123548CAB2A32A5</td>\n",
       "      <td>docked_bike</td>\n",
       "      <td>2021-04-03 12:42:25</td>\n",
       "      <td>2021-04-03 14:13:42</td>\n",
       "      <td>Loomis Blvd &amp; 84th St</td>\n",
       "      <td>20121</td>\n",
       "      <td>Loomis Blvd &amp; 84th St</td>\n",
       "      <td>20121</td>\n",
       "      <td>41.741487</td>\n",
       "      <td>-87.658410</td>\n",
       "      <td>41.741487</td>\n",
       "      <td>-87.658410</td>\n",
       "      <td>casual</td>\n",
       "    </tr>\n",
       "  </tbody>\n",
       "</table>\n",
       "</div>"
      ],
      "text/plain": [
       "            ride_id rideable_type           started_at             ended_at  \\\n",
       "0  6C992BD37A98A63F  classic_bike  2021-04-12 18:25:36  2021-04-12 18:56:55   \n",
       "1  1E0145613A209000   docked_bike  2021-04-27 17:27:11  2021-04-27 18:31:29   \n",
       "2  E498E15508A80BAD   docked_bike  2021-04-03 12:42:45  2021-04-07 11:40:24   \n",
       "3  1887262AD101C604  classic_bike  2021-04-17 09:17:42  2021-04-17 09:42:48   \n",
       "4  C123548CAB2A32A5   docked_bike  2021-04-03 12:42:25  2021-04-03 14:13:42   \n",
       "\n",
       "         start_station_name start_station_id              end_station_name  \\\n",
       "0     State St & Pearson St     TA1307000061  Southport Ave & Waveland Ave   \n",
       "1  Dorchester Ave & 49th St     KA1503000069      Dorchester Ave & 49th St   \n",
       "2     Loomis Blvd & 84th St            20121         Loomis Blvd & 84th St   \n",
       "3   Honore St & Division St     TA1305000034  Southport Ave & Waveland Ave   \n",
       "4     Loomis Blvd & 84th St            20121         Loomis Blvd & 84th St   \n",
       "\n",
       "  end_station_id  start_lat  start_lng    end_lat    end_lng member_casual  \n",
       "0          13235  41.897448 -87.628722  41.948150 -87.663940        member  \n",
       "1   KA1503000069  41.805772 -87.592464  41.805772 -87.592464        casual  \n",
       "2          20121  41.741487 -87.658410  41.741487 -87.658410        casual  \n",
       "3          13235  41.903119 -87.673935  41.948150 -87.663940        member  \n",
       "4          20121  41.741487 -87.658410  41.741487 -87.658410        casual  "
      ]
     },
     "execution_count": 4,
     "metadata": {},
     "output_type": "execute_result"
    }
   ],
   "source": [
    "# Quick view on the data (first 5 rows)\n",
    "Cyclistic_df.head()"
   ]
  },
  {
   "cell_type": "code",
   "execution_count": 5,
   "metadata": {
    "scrolled": true
   },
   "outputs": [
    {
     "name": "stdout",
     "output_type": "stream",
     "text": [
      "<class 'pandas.core.frame.DataFrame'>\n",
      "Int64Index: 5723532 entries, 0 to 284041\n",
      "Data columns (total 13 columns):\n",
      " #   Column              Dtype  \n",
      "---  ------              -----  \n",
      " 0   ride_id             object \n",
      " 1   rideable_type       object \n",
      " 2   started_at          object \n",
      " 3   ended_at            object \n",
      " 4   start_station_name  object \n",
      " 5   start_station_id    object \n",
      " 6   end_station_name    object \n",
      " 7   end_station_id      object \n",
      " 8   start_lat           float64\n",
      " 9   start_lng           float64\n",
      " 10  end_lat             float64\n",
      " 11  end_lng             float64\n",
      " 12  member_casual       object \n",
      "dtypes: float64(4), object(9)\n",
      "memory usage: 611.3+ MB\n"
     ]
    }
   ],
   "source": [
    "# Infromation about the data\n",
    "Cyclistic_df.info()"
   ]
  },
  {
   "cell_type": "markdown",
   "metadata": {},
   "source": [
    "---"
   ]
  },
  {
   "cell_type": "markdown",
   "metadata": {},
   "source": [
    "## Process"
   ]
  },
  {
   "cell_type": "markdown",
   "metadata": {},
   "source": [
    "*Lets start with some cleaning..*"
   ]
  },
  {
   "cell_type": "code",
   "execution_count": 6,
   "metadata": {},
   "outputs": [],
   "source": [
    "# Fixing data type for date columns\n",
    "Cyclistic_df['started_at'] = pd.to_datetime(Cyclistic_df['started_at'])\n",
    "Cyclistic_df['ended_at'] = pd.to_datetime(Cyclistic_df['ended_at'])"
   ]
  },
  {
   "cell_type": "code",
   "execution_count": 7,
   "metadata": {},
   "outputs": [
    {
     "data": {
      "text/plain": [
       "(145, 13)"
      ]
     },
     "execution_count": 7,
     "metadata": {},
     "output_type": "execute_result"
    }
   ],
   "source": [
    "# Check If the end date is earlier than start date\n",
    "false_date = Cyclistic_df.loc[Cyclistic_df['started_at'] > Cyclistic_df['ended_at']]\n",
    "\n",
    "# (No. of rows with false date, No. of coloumns)\n",
    "false_date.shape"
   ]
  },
  {
   "cell_type": "code",
   "execution_count": 8,
   "metadata": {},
   "outputs": [],
   "source": [
    "# Dropping false date rows\n",
    "Cdf_clean = Cyclistic_df.drop(false_date.index.to_list())"
   ]
  },
  {
   "cell_type": "code",
   "execution_count": 9,
   "metadata": {},
   "outputs": [
    {
     "data": {
      "text/plain": [
       "0"
      ]
     },
     "execution_count": 9,
     "metadata": {},
     "output_type": "execute_result"
    }
   ],
   "source": [
    "# Checking duplicates\n",
    "Cdf_clean.duplicated().sum()"
   ]
  },
  {
   "cell_type": "code",
   "execution_count": 10,
   "metadata": {},
   "outputs": [
    {
     "data": {
      "text/plain": [
       "ride_id                    0\n",
       "rideable_type              0\n",
       "started_at                 0\n",
       "ended_at                   0\n",
       "start_station_name    745239\n",
       "start_station_id      745236\n",
       "end_station_name      796092\n",
       "end_station_id        796092\n",
       "start_lat                  0\n",
       "start_lng                  0\n",
       "end_lat                 4715\n",
       "end_lng                 4715\n",
       "member_casual              0\n",
       "dtype: int64"
      ]
     },
     "execution_count": 10,
     "metadata": {},
     "output_type": "execute_result"
    }
   ],
   "source": [
    "# Investigating missing values\n",
    "Cdf_clean.isnull().sum()"
   ]
  },
  {
   "cell_type": "code",
   "execution_count": 11,
   "metadata": {},
   "outputs": [
    {
     "data": {
      "text/plain": [
       "(4640363, 13)"
      ]
     },
     "execution_count": 11,
     "metadata": {},
     "output_type": "execute_result"
    }
   ],
   "source": [
    "# Dropping all rows with missing values\n",
    "Cdf_dropna = Cdf_clean.dropna()\n",
    "\n",
    "# (No. of rows after dropping, No. of coloumns)\n",
    "Cdf_dropna.shape"
   ]
  },
  {
   "cell_type": "markdown",
   "metadata": {},
   "source": [
    "    When NA dropped, a ~19% of the data is lost, which is a huge bias.\n",
    "$$\n",
    "\\frac{5.7m (TotalRows) - 4.6m (No.OfRowsAfterDropping)}{5.7m (TotalRows)}\\ = 0.19\n",
    "$$\n",
    "\n",
    "    Sadly, there is no way to impute missing values correctly, as the data does not exist.\n",
    "> I decided to continue working with missing data entries as it would be a problem only when analyzing on route level."
   ]
  },
  {
   "cell_type": "markdown",
   "metadata": {},
   "source": [
    "*Now, lets derive some features we might use in our analysis..*"
   ]
  },
  {
   "cell_type": "code",
   "execution_count": 12,
   "metadata": {},
   "outputs": [],
   "source": [
    "# Function to extract season from datetime\n",
    "def ext_season(month):\n",
    "    if (month >= 3) and (month <= 5):\n",
    "        return 'Spring'\n",
    "    elif (month >= 6) and (month <= 8):\n",
    "        return 'Summer'\n",
    "    elif (month >= 9) and (month <= 11):\n",
    "        return 'Automn'\n",
    "    else:\n",
    "        return 'Winter'"
   ]
  },
  {
   "cell_type": "code",
   "execution_count": 13,
   "metadata": {},
   "outputs": [],
   "source": [
    "# Extracting weekday (Monday = 0, Sunday = 6)\n",
    "Cdf_clean['weekday'] = Cdf_clean['started_at'].dt.dayofweek\n",
    "\n",
    "# Calculating trip duration field, in minutes\n",
    "Cdf_clean['duration_minutes'] = round((Cdf_clean['ended_at'] - Cdf_clean['started_at']).dt.total_seconds() / 60, 2)\n",
    "\n",
    "# Extracting season\n",
    "Cdf_clean['season'] = Cdf_clean['started_at'].dt.month.map(ext_season)"
   ]
  },
  {
   "cell_type": "code",
   "execution_count": 14,
   "metadata": {},
   "outputs": [],
   "source": [
    "# Replace with weekday names instead of numbers\n",
    "Weekday_Names = {0:'Monday', 1:'Tuesday', 2:'Wednesday', 3:'Thursday', 4:'Friday', 5:'Saturday', 6:'Sunday'}\n",
    "Cdf_clean['weekday'] = Cdf_clean['weekday'].map(Weekday_Names) "
   ]
  },
  {
   "cell_type": "markdown",
   "metadata": {},
   "source": [
    "---"
   ]
  },
  {
   "cell_type": "markdown",
   "metadata": {},
   "source": [
    "## Analyze"
   ]
  },
  {
   "cell_type": "code",
   "execution_count": 15,
   "metadata": {},
   "outputs": [
    {
     "data": {
      "text/html": [
       "<div>\n",
       "<style scoped>\n",
       "    .dataframe tbody tr th:only-of-type {\n",
       "        vertical-align: middle;\n",
       "    }\n",
       "\n",
       "    .dataframe tbody tr th {\n",
       "        vertical-align: top;\n",
       "    }\n",
       "\n",
       "    .dataframe thead th {\n",
       "        text-align: right;\n",
       "    }\n",
       "</style>\n",
       "<table border=\"1\" class=\"dataframe\">\n",
       "  <thead>\n",
       "    <tr style=\"text-align: right;\">\n",
       "      <th></th>\n",
       "      <th>member_casual</th>\n",
       "      <th>count</th>\n",
       "    </tr>\n",
       "  </thead>\n",
       "  <tbody>\n",
       "    <tr>\n",
       "      <th>0</th>\n",
       "      <td>member</td>\n",
       "      <td>3176284</td>\n",
       "    </tr>\n",
       "    <tr>\n",
       "      <th>1</th>\n",
       "      <td>casual</td>\n",
       "      <td>2545997</td>\n",
       "    </tr>\n",
       "  </tbody>\n",
       "</table>\n",
       "</div>"
      ],
      "text/plain": [
       "  member_casual    count\n",
       "0        member  3176284\n",
       "1        casual  2545997"
      ]
     },
     "execution_count": 15,
     "metadata": {},
     "output_type": "execute_result"
    }
   ],
   "source": [
    "#Count the rides; given the user type\n",
    "C_ut = Cdf_clean['member_casual'].value_counts().rename_axis('member_casual').reset_index(name = 'count')\n",
    "\n",
    "C_ut"
   ]
  },
  {
   "cell_type": "code",
   "execution_count": 16,
   "metadata": {},
   "outputs": [
    {
     "data": {
      "text/html": [
       "<div>\n",
       "<style scoped>\n",
       "    .dataframe tbody tr th:only-of-type {\n",
       "        vertical-align: middle;\n",
       "    }\n",
       "\n",
       "    .dataframe tbody tr th {\n",
       "        vertical-align: top;\n",
       "    }\n",
       "\n",
       "    .dataframe thead th {\n",
       "        text-align: right;\n",
       "    }\n",
       "</style>\n",
       "<table border=\"1\" class=\"dataframe\">\n",
       "  <thead>\n",
       "    <tr style=\"text-align: right;\">\n",
       "      <th></th>\n",
       "      <th>member_casual</th>\n",
       "      <th>rideable_type</th>\n",
       "      <th>count</th>\n",
       "    </tr>\n",
       "  </thead>\n",
       "  <tbody>\n",
       "    <tr>\n",
       "      <th>0</th>\n",
       "      <td>casual</td>\n",
       "      <td>classic_bike</td>\n",
       "      <td>1257376</td>\n",
       "    </tr>\n",
       "    <tr>\n",
       "      <th>1</th>\n",
       "      <td>casual</td>\n",
       "      <td>docked_bike</td>\n",
       "      <td>303932</td>\n",
       "    </tr>\n",
       "    <tr>\n",
       "      <th>2</th>\n",
       "      <td>casual</td>\n",
       "      <td>electric_bike</td>\n",
       "      <td>984689</td>\n",
       "    </tr>\n",
       "    <tr>\n",
       "      <th>3</th>\n",
       "      <td>member</td>\n",
       "      <td>classic_bike</td>\n",
       "      <td>1992598</td>\n",
       "    </tr>\n",
       "    <tr>\n",
       "      <th>4</th>\n",
       "      <td>member</td>\n",
       "      <td>electric_bike</td>\n",
       "      <td>1183686</td>\n",
       "    </tr>\n",
       "  </tbody>\n",
       "</table>\n",
       "</div>"
      ],
      "text/plain": [
       "  member_casual  rideable_type    count\n",
       "0        casual   classic_bike  1257376\n",
       "1        casual    docked_bike   303932\n",
       "2        casual  electric_bike   984689\n",
       "3        member   classic_bike  1992598\n",
       "4        member  electric_bike  1183686"
      ]
     },
     "execution_count": 16,
     "metadata": {},
     "output_type": "execute_result"
    }
   ],
   "source": [
    "# Count the rides; given both user, and bike type\n",
    "C_ut_bt = Cdf_clean.groupby(['member_casual','rideable_type'])['ride_id'].count().rename_axis(['member_casual', 'rideable_type']).reset_index(name = 'count')\n",
    "\n",
    "C_ut_bt"
   ]
  },
  {
   "cell_type": "code",
   "execution_count": 17,
   "metadata": {
    "scrolled": true
   },
   "outputs": [
    {
     "data": {
      "text/html": [
       "<div>\n",
       "<style scoped>\n",
       "    .dataframe tbody tr th:only-of-type {\n",
       "        vertical-align: middle;\n",
       "    }\n",
       "\n",
       "    .dataframe tbody tr th {\n",
       "        vertical-align: top;\n",
       "    }\n",
       "\n",
       "    .dataframe thead th {\n",
       "        text-align: right;\n",
       "    }\n",
       "</style>\n",
       "<table border=\"1\" class=\"dataframe\">\n",
       "  <thead>\n",
       "    <tr style=\"text-align: right;\">\n",
       "      <th></th>\n",
       "      <th>member_casual</th>\n",
       "      <th>weekday</th>\n",
       "      <th>count</th>\n",
       "    </tr>\n",
       "  </thead>\n",
       "  <tbody>\n",
       "    <tr>\n",
       "      <th>0</th>\n",
       "      <td>casual</td>\n",
       "      <td>Friday</td>\n",
       "      <td>364214</td>\n",
       "    </tr>\n",
       "    <tr>\n",
       "      <th>1</th>\n",
       "      <td>casual</td>\n",
       "      <td>Monday</td>\n",
       "      <td>292941</td>\n",
       "    </tr>\n",
       "    <tr>\n",
       "      <th>2</th>\n",
       "      <td>casual</td>\n",
       "      <td>Saturday</td>\n",
       "      <td>549898</td>\n",
       "    </tr>\n",
       "    <tr>\n",
       "      <th>3</th>\n",
       "      <td>casual</td>\n",
       "      <td>Sunday</td>\n",
       "      <td>482692</td>\n",
       "    </tr>\n",
       "    <tr>\n",
       "      <th>4</th>\n",
       "      <td>casual</td>\n",
       "      <td>Thursday</td>\n",
       "      <td>293576</td>\n",
       "    </tr>\n",
       "    <tr>\n",
       "      <th>5</th>\n",
       "      <td>casual</td>\n",
       "      <td>Tuesday</td>\n",
       "      <td>276313</td>\n",
       "    </tr>\n",
       "    <tr>\n",
       "      <th>6</th>\n",
       "      <td>casual</td>\n",
       "      <td>Wednesday</td>\n",
       "      <td>286363</td>\n",
       "    </tr>\n",
       "    <tr>\n",
       "      <th>7</th>\n",
       "      <td>member</td>\n",
       "      <td>Friday</td>\n",
       "      <td>453005</td>\n",
       "    </tr>\n",
       "    <tr>\n",
       "      <th>8</th>\n",
       "      <td>member</td>\n",
       "      <td>Monday</td>\n",
       "      <td>439351</td>\n",
       "    </tr>\n",
       "    <tr>\n",
       "      <th>9</th>\n",
       "      <td>member</td>\n",
       "      <td>Saturday</td>\n",
       "      <td>431255</td>\n",
       "    </tr>\n",
       "    <tr>\n",
       "      <th>10</th>\n",
       "      <td>member</td>\n",
       "      <td>Sunday</td>\n",
       "      <td>387642</td>\n",
       "    </tr>\n",
       "    <tr>\n",
       "      <th>11</th>\n",
       "      <td>member</td>\n",
       "      <td>Thursday</td>\n",
       "      <td>475230</td>\n",
       "    </tr>\n",
       "    <tr>\n",
       "      <th>12</th>\n",
       "      <td>member</td>\n",
       "      <td>Tuesday</td>\n",
       "      <td>490004</td>\n",
       "    </tr>\n",
       "    <tr>\n",
       "      <th>13</th>\n",
       "      <td>member</td>\n",
       "      <td>Wednesday</td>\n",
       "      <td>499797</td>\n",
       "    </tr>\n",
       "  </tbody>\n",
       "</table>\n",
       "</div>"
      ],
      "text/plain": [
       "   member_casual    weekday   count\n",
       "0         casual     Friday  364214\n",
       "1         casual     Monday  292941\n",
       "2         casual   Saturday  549898\n",
       "3         casual     Sunday  482692\n",
       "4         casual   Thursday  293576\n",
       "5         casual    Tuesday  276313\n",
       "6         casual  Wednesday  286363\n",
       "7         member     Friday  453005\n",
       "8         member     Monday  439351\n",
       "9         member   Saturday  431255\n",
       "10        member     Sunday  387642\n",
       "11        member   Thursday  475230\n",
       "12        member    Tuesday  490004\n",
       "13        member  Wednesday  499797"
      ]
     },
     "execution_count": 17,
     "metadata": {},
     "output_type": "execute_result"
    }
   ],
   "source": [
    "# Count the rides; given both user, and weekday\n",
    "C_wd_ut = Cdf_clean.groupby(['member_casual', 'weekday'])['weekday'].count().rename_axis(['member_casual', 'weekday']).reset_index(name = 'count')\n",
    "\n",
    "C_wd_ut"
   ]
  },
  {
   "cell_type": "code",
   "execution_count": 18,
   "metadata": {},
   "outputs": [
    {
     "data": {
      "text/html": [
       "<div>\n",
       "<style scoped>\n",
       "    .dataframe tbody tr th:only-of-type {\n",
       "        vertical-align: middle;\n",
       "    }\n",
       "\n",
       "    .dataframe tbody tr th {\n",
       "        vertical-align: top;\n",
       "    }\n",
       "\n",
       "    .dataframe thead th {\n",
       "        text-align: right;\n",
       "    }\n",
       "</style>\n",
       "<table border=\"1\" class=\"dataframe\">\n",
       "  <thead>\n",
       "    <tr style=\"text-align: right;\">\n",
       "      <th></th>\n",
       "      <th>member_casual</th>\n",
       "      <th>weekday</th>\n",
       "      <th>avg_duration_m</th>\n",
       "    </tr>\n",
       "  </thead>\n",
       "  <tbody>\n",
       "    <tr>\n",
       "      <th>0</th>\n",
       "      <td>casual</td>\n",
       "      <td>Friday</td>\n",
       "      <td>30.10</td>\n",
       "    </tr>\n",
       "    <tr>\n",
       "      <th>1</th>\n",
       "      <td>casual</td>\n",
       "      <td>Monday</td>\n",
       "      <td>31.48</td>\n",
       "    </tr>\n",
       "    <tr>\n",
       "      <th>2</th>\n",
       "      <td>casual</td>\n",
       "      <td>Saturday</td>\n",
       "      <td>34.28</td>\n",
       "    </tr>\n",
       "    <tr>\n",
       "      <th>3</th>\n",
       "      <td>casual</td>\n",
       "      <td>Sunday</td>\n",
       "      <td>37.41</td>\n",
       "    </tr>\n",
       "    <tr>\n",
       "      <th>4</th>\n",
       "      <td>casual</td>\n",
       "      <td>Thursday</td>\n",
       "      <td>27.88</td>\n",
       "    </tr>\n",
       "    <tr>\n",
       "      <th>5</th>\n",
       "      <td>casual</td>\n",
       "      <td>Tuesday</td>\n",
       "      <td>27.43</td>\n",
       "    </tr>\n",
       "    <tr>\n",
       "      <th>6</th>\n",
       "      <td>casual</td>\n",
       "      <td>Wednesday</td>\n",
       "      <td>27.77</td>\n",
       "    </tr>\n",
       "    <tr>\n",
       "      <th>7</th>\n",
       "      <td>member</td>\n",
       "      <td>Friday</td>\n",
       "      <td>13.14</td>\n",
       "    </tr>\n",
       "    <tr>\n",
       "      <th>8</th>\n",
       "      <td>member</td>\n",
       "      <td>Monday</td>\n",
       "      <td>12.97</td>\n",
       "    </tr>\n",
       "    <tr>\n",
       "      <th>9</th>\n",
       "      <td>member</td>\n",
       "      <td>Saturday</td>\n",
       "      <td>14.99</td>\n",
       "    </tr>\n",
       "    <tr>\n",
       "      <th>10</th>\n",
       "      <td>member</td>\n",
       "      <td>Sunday</td>\n",
       "      <td>15.35</td>\n",
       "    </tr>\n",
       "    <tr>\n",
       "      <th>11</th>\n",
       "      <td>member</td>\n",
       "      <td>Thursday</td>\n",
       "      <td>12.57</td>\n",
       "    </tr>\n",
       "    <tr>\n",
       "      <th>12</th>\n",
       "      <td>member</td>\n",
       "      <td>Tuesday</td>\n",
       "      <td>12.52</td>\n",
       "    </tr>\n",
       "    <tr>\n",
       "      <th>13</th>\n",
       "      <td>member</td>\n",
       "      <td>Wednesday</td>\n",
       "      <td>12.59</td>\n",
       "    </tr>\n",
       "  </tbody>\n",
       "</table>\n",
       "</div>"
      ],
      "text/plain": [
       "   member_casual    weekday  avg_duration_m\n",
       "0         casual     Friday           30.10\n",
       "1         casual     Monday           31.48\n",
       "2         casual   Saturday           34.28\n",
       "3         casual     Sunday           37.41\n",
       "4         casual   Thursday           27.88\n",
       "5         casual    Tuesday           27.43\n",
       "6         casual  Wednesday           27.77\n",
       "7         member     Friday           13.14\n",
       "8         member     Monday           12.97\n",
       "9         member   Saturday           14.99\n",
       "10        member     Sunday           15.35\n",
       "11        member   Thursday           12.57\n",
       "12        member    Tuesday           12.52\n",
       "13        member  Wednesday           12.59"
      ]
     },
     "execution_count": 18,
     "metadata": {},
     "output_type": "execute_result"
    }
   ],
   "source": [
    "# Average ride duration; given user, and weekday\n",
    "Avg_ud_ut = Cdf_clean.groupby(['member_casual', 'weekday'])['duration_minutes'].mean().rename_axis(['member_casual', 'weekday']).reset_index(name = 'avg_duration_m')\n",
    "\n",
    "# Avg duration rounded to 2 decimal points\n",
    "Avg_ud_ut['avg_duration_m'] = round(Avg_ud_ut['avg_duration_m'], 2)\n",
    "\n",
    "Avg_ud_ut"
   ]
  },
  {
   "cell_type": "code",
   "execution_count": 19,
   "metadata": {},
   "outputs": [
    {
     "data": {
      "text/html": [
       "<div>\n",
       "<style scoped>\n",
       "    .dataframe tbody tr th:only-of-type {\n",
       "        vertical-align: middle;\n",
       "    }\n",
       "\n",
       "    .dataframe tbody tr th {\n",
       "        vertical-align: top;\n",
       "    }\n",
       "\n",
       "    .dataframe thead th {\n",
       "        text-align: right;\n",
       "    }\n",
       "</style>\n",
       "<table border=\"1\" class=\"dataframe\">\n",
       "  <thead>\n",
       "    <tr style=\"text-align: right;\">\n",
       "      <th></th>\n",
       "      <th>member_casual</th>\n",
       "      <th>season</th>\n",
       "      <th>count</th>\n",
       "    </tr>\n",
       "  </thead>\n",
       "  <tbody>\n",
       "    <tr>\n",
       "      <th>0</th>\n",
       "      <td>casual</td>\n",
       "      <td>Automn</td>\n",
       "      <td>727899</td>\n",
       "    </tr>\n",
       "    <tr>\n",
       "      <th>1</th>\n",
       "      <td>casual</td>\n",
       "      <td>Spring</td>\n",
       "      <td>483270</td>\n",
       "    </tr>\n",
       "    <tr>\n",
       "      <th>2</th>\n",
       "      <td>casual</td>\n",
       "      <td>Summer</td>\n",
       "      <td>1225185</td>\n",
       "    </tr>\n",
       "    <tr>\n",
       "      <th>3</th>\n",
       "      <td>casual</td>\n",
       "      <td>Winter</td>\n",
       "      <td>109643</td>\n",
       "    </tr>\n",
       "    <tr>\n",
       "      <th>4</th>\n",
       "      <td>member</td>\n",
       "      <td>Automn</td>\n",
       "      <td>1019056</td>\n",
       "    </tr>\n",
       "    <tr>\n",
       "      <th>5</th>\n",
       "      <td>member</td>\n",
       "      <td>Spring</td>\n",
       "      <td>669341</td>\n",
       "    </tr>\n",
       "    <tr>\n",
       "      <th>6</th>\n",
       "      <td>member</td>\n",
       "      <td>Summer</td>\n",
       "      <td>1130737</td>\n",
       "    </tr>\n",
       "    <tr>\n",
       "      <th>7</th>\n",
       "      <td>member</td>\n",
       "      <td>Winter</td>\n",
       "      <td>357150</td>\n",
       "    </tr>\n",
       "  </tbody>\n",
       "</table>\n",
       "</div>"
      ],
      "text/plain": [
       "  member_casual  season    count\n",
       "0        casual  Automn   727899\n",
       "1        casual  Spring   483270\n",
       "2        casual  Summer  1225185\n",
       "3        casual  Winter   109643\n",
       "4        member  Automn  1019056\n",
       "5        member  Spring   669341\n",
       "6        member  Summer  1130737\n",
       "7        member  Winter   357150"
      ]
     },
     "execution_count": 19,
     "metadata": {},
     "output_type": "execute_result"
    }
   ],
   "source": [
    "# Count the rides; given both user, and season\n",
    "C_s_ut = Cdf_clean.groupby(['member_casual', 'season'])['season'].count().rename_axis(['member_casual', 'season']).reset_index(name = 'count')\n",
    "\n",
    "C_s_ut"
   ]
  },
  {
   "cell_type": "markdown",
   "metadata": {},
   "source": [
    "---"
   ]
  },
  {
   "cell_type": "markdown",
   "metadata": {},
   "source": [
    "## Share"
   ]
  },
  {
   "cell_type": "code",
   "execution_count": 20,
   "metadata": {},
   "outputs": [],
   "source": [
    "def chart_cust(chart):\n",
    "    sns.set_style('whitegrid')\n",
    "    sns.set_context('talk')\n",
    "    sns.set_palette(['#27C7CF', '#7AE1E6'])\n",
    "    chart\n",
    "    plt.ticklabel_format(style='plain', axis='y')\n",
    "    plt.show()"
   ]
  },
  {
   "cell_type": "code",
   "execution_count": 26,
   "metadata": {
    "scrolled": true
   },
   "outputs": [
    {
     "data": {
      "image/png": "[encoded data removed]",
      "text/plain": [
       "<Figure size 432x288 with 1 Axes>"
      ]
     },
     "metadata": {},
     "output_type": "display_data"
    }
   ],
   "source": [
    "#Count the rides; given the user type\n",
    "c = plt.pie(C_ut['count'], labels=C_ut['member_casual'], autopct='%.0f%%', startangle=90)\n",
    "plt.title('Rides % for each user type')\n",
    "chart_cust(c)"
   ]
  },
  {
   "cell_type": "code",
   "execution_count": 22,
   "metadata": {
    "scrolled": false
   },
   "outputs": [
    {
     "data": {
      "image/png": "[encoded data removed]",
      "text/plain": [
       "<Figure size 432x288 with 1 Axes>"
      ]
     },
     "metadata": {},
     "output_type": "display_data"
    }
   ],
   "source": [
    "# Count the rides; given both user, and bike type\n",
    "c = sns.barplot(data=C_ut_bt, x='rideable_type', y='count', hue='member_casual', hue_order=['member', 'casual'])\n",
    "plt.title('No. of rides given bike types', fontsize=25, pad=20)\n",
    "plt.xlabel('Bike type')\n",
    "plt.ylabel('No. of rides')\n",
    "chart_cust(c)"
   ]
  },
  {
   "cell_type": "markdown",
   "metadata": {},
   "source": [
    "> Surprisingly, docked bikes are never used by annual members for the past 12-month."
   ]
  },
  {
   "cell_type": "code",
   "execution_count": 23,
   "metadata": {},
   "outputs": [
    {
     "data": {
      "image/png": "[encoded data removed]",
      "text/plain": [
       "<Figure size 432x288 with 1 Axes>"
      ]
     },
     "metadata": {},
     "output_type": "display_data"
    }
   ],
   "source": [
    "# Count the rides; given both user, and weekday\n",
    "c = sns.barplot(data=C_wd_ut, x='weekday', y='count', hue='member_casual', hue_order=['member', 'casual'])\n",
    "plt.legend(bbox_to_anchor=(1.02, 1), loc='upper left')\n",
    "plt.xticks(rotation=45)\n",
    "plt.title('No. of rides given weekday', fontsize=25, pad=20)\n",
    "plt.xlabel('')\n",
    "plt.ylabel('No. of rides')\n",
    "chart_cust(c)"
   ]
  },
  {
   "cell_type": "markdown",
   "metadata": {},
   "source": [
    "> Casual users are active the most during weekends.\n",
    ">\n",
    "> Members are more active throughout the rest of the week."
   ]
  },
  {
   "cell_type": "code",
   "execution_count": 24,
   "metadata": {},
   "outputs": [
    {
     "data": {
      "image/png": "[encoded data removed]",
      "text/plain": [
       "<Figure size 432x288 with 1 Axes>"
      ]
     },
     "metadata": {},
     "output_type": "display_data"
    }
   ],
   "source": [
    "# Average ride duration; given user, and weekday\n",
    "c = sns.barplot(data=Avg_ud_ut, x='weekday', y='avg_duration_m', hue='member_casual', hue_order=['member', 'casual'])\n",
    "plt.legend(bbox_to_anchor=(1.02, 1), loc='upper left')\n",
    "plt.xticks(rotation=45)\n",
    "plt.title('Average ride duration given weekday', fontsize=25, pad=20)\n",
    "plt.xlabel('')\n",
    "plt.ylabel('Avg duration')\n",
    "chart_cust(c)"
   ]
  },
  {
   "cell_type": "markdown",
   "metadata": {},
   "source": [
    "> Although, average casuals' rides duration go twice the members', over the week."
   ]
  },
  {
   "cell_type": "code",
   "execution_count": 25,
   "metadata": {
    "scrolled": false
   },
   "outputs": [
    {
     "data": {
      "image/png": "[encoded data removed]",
      "text/plain": [
       "<Figure size 432x288 with 1 Axes>"
      ]
     },
     "metadata": {},
     "output_type": "display_data"
    }
   ],
   "source": [
    "# Count the rides; given both user, and season\n",
    "c = sns.barplot(data=C_s_ut, x='season', y='count', hue='member_casual', hue_order=['member', 'casual'])\n",
    "plt.legend(bbox_to_anchor=(1.02, 1), loc='upper left')\n",
    "plt.title('No. of rides given season', fontsize=25, pad=20)\n",
    "plt.xlabel('')\n",
    "plt.ylabel('No. of rides')\n",
    "chart_cust(c)"
   ]
  },
  {
   "cell_type": "markdown",
   "metadata": {},
   "source": [
    "> Casual users are active the most during summer.\n",
    ">\n",
    "> Members are more active than casuals the rest of the year."
   ]
  },
  {
   "cell_type": "markdown",
   "metadata": {},
   "source": [
    "---"
   ]
  },
  {
   "cell_type": "markdown",
   "metadata": {},
   "source": [
    "## Act"
   ]
  },
  {
   "cell_type": "markdown",
   "metadata": {},
   "source": [
    "***Considering business objective and extracted insights, I suggest:***\n",
    "- Offering some kind of promotion during summer, or occasionally in weekends.\n",
    "- Taking docked bikes into annual memberships."
   ]
  },
  {
   "cell_type": "markdown",
   "metadata": {},
   "source": [
    "---\n",
    "<center><b>Thanks for reading ^_^</b><center>\n",
    "<center><b>Kindly UPVOTE, if you found it useful</b><center>"
   ]
  }
 ],
 "metadata": {
  "kernelspec": {
   "display_name": "Python 3",
   "language": "python",
   "name": "python3"
  },
  "language_info": {
   "codemirror_mode": {
    "name": "ipython",
    "version": 3
   },
   "file_extension": ".py",
   "mimetype": "text/x-python",
   "name": "python",
   "nbconvert_exporter": "python",
   "pygments_lexer": "ipython3",
   "version": "3.8.5"
  }
 },
 "nbformat": 4,
 "nbformat_minor": 4
}
